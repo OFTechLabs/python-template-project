{
 "cells": [
  {
   "cell_type": "markdown",
   "metadata": {
    "collapsed": true,
    "pycharm": {
     "name": "#%% md\n"
    }
   },
   "source": [
    "This notebook shows how the model can be used.\n",
    "This notebook is meant for user with less programming experience that want to try the model.\n",
    "An alternative way of using the model is via the REST API that runs in a Docker container."
   ]
  },
  {
   "cell_type": "code",
   "execution_count": 1,
   "outputs": [],
   "source": [
    "import os\n",
    "import pickle\n",
    "import numpy as np"
   ],
   "metadata": {
    "collapsed": false,
    "pycharm": {
     "name": "#%%\n"
    }
   }
  },
  {
   "cell_type": "markdown",
   "source": [
    "The model is a Decision Tree that classifies whether a flower is a setosa, versicolor or virginica.\n",
    "For that the Decision Tree takes as input the sepal length, sepal width, petal length and petal width.\n",
    "The Decision Tree is an implementation from the SciKit-learn module."
   ],
   "metadata": {
    "collapsed": false,
    "pycharm": {
     "name": "#%% md\n"
    }
   }
  },
  {
   "cell_type": "markdown",
   "source": [
    "The Decision Tree is already trained and saved in pickle format.\n",
    "The model should now only be loaded from the pickle file."
   ],
   "metadata": {
    "collapsed": false,
    "pycharm": {
     "name": "#%% md\n"
    }
   }
  },
  {
   "cell_type": "code",
   "source": [
    "model_name = \"DecisionTreeClassifier\"\n",
    "model_dir = os.path.join(\"..\", \"app\", \"model\")\n",
    "\n",
    "model = pickle.load(open(os.path.join(model_dir, model_name+\".pickle\"), \"rb\"))\n",
    "flower_names = [\"setosa\", \"versicolor\", \"verginica\"]"
   ],
   "metadata": {
    "collapsed": false,
    "pycharm": {
     "name": "#%%\n"
    }
   },
   "execution_count": 2,
   "outputs": []
  },
  {
   "cell_type": "markdown",
   "source": [
    "Now define an input instance of a flower of which you want to predict the species."
   ],
   "metadata": {
    "collapsed": false,
    "pycharm": {
     "name": "#%% md\n"
    }
   }
  },
  {
   "cell_type": "code",
   "execution_count": 3,
   "outputs": [],
   "source": [
    "sepal_length = 1.0\n",
    "sepal_width = 1.0\n",
    "petal_length = 1.0\n",
    "petal_width = 1.0\n",
    "flower = np.array([[sepal_length, sepal_width, petal_length, petal_width]])\n"
   ],
   "metadata": {
    "collapsed": false,
    "pycharm": {
     "name": "#%%\n"
    }
   }
  },
  {
   "cell_type": "markdown",
   "source": [
    "Now the model can make a prediction of the type of flower."
   ],
   "metadata": {
    "collapsed": false,
    "pycharm": {
     "name": "#%% md\n"
    }
   }
  },
  {
   "cell_type": "code",
   "execution_count": 4,
   "outputs": [
    {
     "name": "stdout",
     "output_type": "stream",
     "text": [
      "predicted flower category is: [1]\n",
      "this corresponds to the flower type: versicolor\n"
     ]
    }
   ],
   "source": [
    "print(\"predicted flower category is:\", model.predict(flower))\n",
    "print(\"this corresponds to the flower type:\", flower_names[model.predict(flower)[0]])"
   ],
   "metadata": {
    "collapsed": false,
    "pycharm": {
     "name": "#%%\n"
    }
   }
  }
 ],
 "metadata": {
  "kernelspec": {
   "display_name": "Python 3",
   "language": "python",
   "name": "python3"
  },
  "language_info": {
   "codemirror_mode": {
    "name": "ipython",
    "version": 2
   },
   "file_extension": ".py",
   "mimetype": "text/x-python",
   "name": "python",
   "nbconvert_exporter": "python",
   "pygments_lexer": "ipython2",
   "version": "2.7.6"
  }
 },
 "nbformat": 4,
 "nbformat_minor": 0
}